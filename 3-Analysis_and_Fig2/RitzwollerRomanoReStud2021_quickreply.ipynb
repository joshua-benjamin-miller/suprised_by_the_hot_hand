{
 "cells": [
  {
   "cell_type": "markdown",
   "metadata": {},
   "source": [
    "The quote from Ritzwoller & Romano 2021:\n",
    "> ...multiple testing procedures reveal that one shooter exhibits a shooting pattern significantly inconsistent with randomness – supplying strong evidence that basketball shooting is not random for all shooters all of the time. However, we find that the evidence against randomness in this experiment is limited to this shooter\n",
    "\n",
    "link: https://www.restud.com/paper/uncertainty-in-the-hot-hand-fallacy-detecting-streaky-alternatives-to-random-bernoulli-sequences/"
   ]
  },
  {
   "cell_type": "markdown",
   "metadata": {},
   "source": [
    "# Skip to (3) for results"
   ]
  },
  {
   "cell_type": "markdown",
   "metadata": {},
   "source": [
    "## 1. Three Stata rclass commands:  (skip over this for results)\n",
    "1. Generating random data\n",
    "2. Running a fixed effect regression coefficient (biased)\n",
    "3. Running a biased-corrected test on the regression coefficient"
   ]
  },
  {
   "cell_type": "code",
   "execution_count": 9,
   "metadata": {},
   "outputs": [],
   "source": [
    "{\n",
    "cap program drop anGVT_fe\n",
    "program define anGVT_fe, rclass\n",
    "\tsyntax [,  k(integer 3) command(string) ]\n",
    "\t*This code regenerates GVT's shot outcomes, randomly \n",
    "\t*Then runs a fixed effect regression (biased), and returns the coefficient estimate \n",
    "\t*hitting k or more in row\n",
    "\t\n",
    "\tclear\n",
    "\tuse gilovichshooters.dta\n",
    "\t\n",
    "\t*Flexible, to add any command here:\n",
    "\t`command'\n",
    "\t\n",
    "\t*randomize the shot outcomes\n",
    "\tby sid: egen fg=mean(make)\n",
    "\tgen rand1=runiform()\n",
    "\treplace make = (rand1<=fg) \n",
    "\t\n",
    "\n",
    "\t\n",
    "\t*Build streak condition statement\n",
    "\tlocal make=\"make[_n-1]==1\"\n",
    "\tlocal miss=\"make[_n-1]==0\"\n",
    "\tforvalues i=2(1)`k'{\n",
    "\t\tlocal make=\"`make' & make[_n-`i']==1\"\n",
    "\t\tlocal miss=\"`miss' & make[_n-`i']==0\"\n",
    "\t}\n",
    "\t\n",
    "\t*Generate the regressor:\n",
    "\tgen dMade`k'ormore=`make' if period>`k'\n",
    "\tgen dMissed`k'ormore=`miss' if period>`k'\n",
    "\t\n",
    "\t*fixed effect regression \n",
    "\treg make dMade`k'ormore i.sid if dMade`k'ormore==1| dMissed`k'ormore==1\n",
    "\t\n",
    "\t*return the coefficent\n",
    "\treturn scalar diff=el(r(table),1,1)\n",
    "end\n",
    "\n",
    "\n",
    "cap program drop ttest_beta\n",
    "program define ttest_beta, rclass\n",
    "\tsyntax [, k(integer 3) sim_data(string) command(string) ]\n",
    "\t*Is the hot hand in GVT robust \n",
    "quietly{\n",
    "    \n",
    "    clear\n",
    "\tuse `sim_data'\n",
    "\tsummarize, meanonly\n",
    "\tlocal bias =  r(mean) \n",
    "    \n",
    "    \n",
    "\tclear\n",
    "\t*Load\n",
    "\tuse gilovichshooters.dta\n",
    "\tdo genregressionvars_v2.do  //generate the variables that are used in the regression\n",
    "\tgenregressionvars\t\n",
    "\t`command'\n",
    "\t\n",
    "\tinspect sid\n",
    "\tif r(N_unique)> 1{\n",
    "\t\txtset sid \n",
    "\t\tnoi: xtreg make dMade`k'ormore if dMade`k'ormore==1| dMissed`k'ormore==1, fe\n",
    "\t}\n",
    "\telse{\n",
    "\t\tnoi: reg make dMade`k'ormore if dMade`k'ormore==1| dMissed`k'ormore==1\n",
    "\t}\n",
    "\n",
    "\t\n",
    "    return scalar ui95 = _b[dMade`k'ormore]-`bias'+invttail(e(df_r) ,.025)*_se[dMade3ormore]\n",
    "\treturn scalar li95=  _b[dMade`k'ormore]-`bias'-invttail(e(df_r) ,.025)*_se[dMade3ormore]\n",
    "\treturn scalar ui_se= _b[dMade3ormore]-`bias'+_se[dMade3ormore]\n",
    "\treturn scalar li_se= _b[dMade3ormore]-`bias'-_se[dMade3ormore]\n",
    "\treturn scalar beta = _b[dMade3ormore]-`bias'\n",
    "    \n",
    "\t*Alternative Hypothsis 1: Hot or Cold Hand\n",
    "\tnoi: test dMade`k'ormore=`bias'\n",
    "\t\n",
    "\treturn scalar hot_hand_effect = _b[dMade`k'ormore] - `bias'\t\t\n",
    "\t*Alternative Hypothesis 2: Hot hand (one-sided test, justified by priors?)\n",
    "\t\tlocal tstat=sign(_b[dMade`k'ormore])*sqrt(r(F))\n",
    "\t\t\n",
    "\t\treturn scalar tstat = `tstat'\n",
    "\t\treturn scalar pvalue_right_tail =  ttail(r(df_r) ,`tstat')\t\n",
    "}\n",
    "end\n",
    "\n",
    "}"
   ]
  },
  {
   "cell_type": "markdown",
   "metadata": {},
   "source": [
    "## 2 Simulate coefficient estimates to calculate bias (in the context of fe regression)\n",
    "This will take 5-10 min"
   ]
  },
  {
   "cell_type": "code",
   "execution_count": 11,
   "metadata": {},
   "outputs": [],
   "source": [
    "*For sid 109 only, k=3,4\n",
    "qui: simulate diff=r(diff),reps(10000) saving(MS_Bias_only109_k3.dta): anGVT_fe,  k(3) command(\"keep if sid == 109\") \n",
    "qui: simulate diff=r(diff),reps(10000) saving(MS_Bias_only109_k4.dta): anGVT_fe,  k(4) command(\"keep if sid == 109\") \n",
    "\n",
    "*For GVT without sid 109, k=3,4\n",
    "qui: simulate diff=r(diff),reps(10000) saving(MS_Bias_without109_k3.dta): anGVT_fe,  k(3) command(\"drop if sid == 109\")\n",
    "qui: simulate diff=r(diff),reps(10000) saving(MS_Bias_without109_k4.dta): anGVT_fe,  k(4) command(\"drop if sid == 109\")"
   ]
  },
  {
   "cell_type": "code",
   "execution_count": 2,
   "metadata": {},
   "outputs": [],
   "source": [
    "qui: simulate diff=r(diff),reps(10000) saving(MS_Bias_guys_k3.dta): anGVT_fe,  k(3) command(\"keep if sid <200\") \n",
    "qui: simulate diff=r(diff),reps(10000) saving(MS_Bias_gals_k3.dta): anGVT_fe,  k(3) command(\"keep if sid >=200\") "
   ]
  },
  {
   "cell_type": "markdown",
   "metadata": {},
   "source": [
    "## 3.  How much of a hot hand does shooter 109 have?  A lot"
   ]
  },
  {
   "cell_type": "code",
   "execution_count": 4,
   "metadata": {},
   "outputs": [
    {
     "name": "stdout",
     "output_type": "stream",
     "text": [
      "\n",
      "\n",
      "      Source |       SS           df       MS      Number of obs   =        50\n",
      "-------------+----------------------------------   F(1, 48)        =     15.44\n",
      "       Model |  2.80333333         1  2.80333333   Prob > F        =    0.0003\n",
      "    Residual |  8.71666667        48  .181597222   R-squared       =    0.2433\n",
      "-------------+----------------------------------   Adj R-squared   =    0.2276\n",
      "       Total |       11.52        49  .235102041   Root MSE        =    .42614\n",
      "\n",
      "------------------------------------------------------------------------------\n",
      "        make |      Coef.   Std. Err.      t    P>|t|     [95% Conf. Interval]\n",
      "-------------+----------------------------------------------------------------\n",
      "dMade3ormore |   .4833333   .1230167     3.93   0.000     .2359917    .7306749\n",
      "       _cons |        .35   .0952883     3.67   0.001       .15841      .54159\n",
      "------------------------------------------------------------------------------\n",
      "\n",
      " ( 1)  dMade3ormore = -.0819733\n",
      "\n",
      "       F(  1,    48) =   21.12\n",
      "            Prob > F =    0.0000\n",
      "\n",
      "++++++++++++++++++++++++++++++++++++++++++++++++++++++++++++++++++++++++\n",
      "\n",
      "Bias Corrected Hot hand Effect = .56530668\n",
      "\n",
      "Pvalue of Test with hot hand alternative = .00001575\n"
     ]
    }
   ],
   "source": [
    "ttest_beta, k(3) sim_data(MS_Bias_only109_k3.dta) command(\"keep if sid ==109\")\n",
    "\n",
    "disp \"++++++++++++++++++++++++++++++++++++++++++++++++++++++++++++++++++++++++\"\n",
    "disp \"Bias Corrected Hot hand Effect = \" r(hot_hand_effect)\n",
    "disp \"Pvalue of Test with hot hand alternative = \"  r(pvalue_right_tail)"
   ]
  },
  {
   "cell_type": "markdown",
   "metadata": {},
   "source": [
    "**Robust to stricter definition of a streak? Length 4 or longer:**"
   ]
  },
  {
   "cell_type": "code",
   "execution_count": 5,
   "metadata": {},
   "outputs": [
    {
     "name": "stdout",
     "output_type": "stream",
     "text": [
      "\n",
      "\n",
      "      Source |       SS           df       MS      Number of obs   =        38\n",
      "-------------+----------------------------------   F(1, 36)        =      7.51\n",
      "       Model |   1.4757085         1   1.4757085   Prob > F        =    0.0095\n",
      "    Residual |  7.07692308        36  .196581197   R-squared       =    0.1725\n",
      "-------------+----------------------------------   Adj R-squared   =    0.1496\n",
      "       Total |  8.55263158        37  .231152205   Root MSE        =    .44337\n",
      "\n",
      "------------------------------------------------------------------------------\n",
      "        make |      Coef.   Std. Err.      t    P>|t|     [95% Conf. Interval]\n",
      "-------------+----------------------------------------------------------------\n",
      "dMade4ormore |   .4153846   .1516076     2.74   0.010     .1079101    .7228592\n",
      "       _cons |   .3846154     .12297     3.13   0.003     .1352206    .6340102\n",
      "------------------------------------------------------------------------------\n",
      "\n",
      " ( 1)  dMade4ormore = -.1605503\n",
      "\n",
      "       F(  1,    36) =   14.43\n",
      "            Prob > F =    0.0005\n",
      "\n",
      "++++++++++++++++++++++++++++++++++++++++++++++++++++++++++++++++++++++++\n",
      "\n",
      "Bias Corrected Hot hand Effect = .5759349\n",
      "\n",
      "Pvalue of Test with hot hand alternative = .00026993\n"
     ]
    }
   ],
   "source": [
    "ttest_beta, k(4) sim_data(MS_Bias_only109_k4.dta) command(\"keep if sid ==109\")\n",
    "\n",
    "disp \"++++++++++++++++++++++++++++++++++++++++++++++++++++++++++++++++++++++++\"\n",
    "disp \"Bias Corrected Hot hand Effect = \" r(hot_hand_effect)\n",
    "disp \"Pvalue of Test with hot hand alternative = \"  r(pvalue_right_tail)"
   ]
  },
  {
   "cell_type": "markdown",
   "metadata": {},
   "source": [
    "## 4.  Is GVT significant without shooter 109 have?  Yes*, hot hand effect = 10.2pp (SE 4.6)\n",
    "*Yes for k=3 (for k=4 yes for hot hand alternative, borderline for cold or hot hand alternative)"
   ]
  },
  {
   "cell_type": "code",
   "execution_count": 9,
   "metadata": {},
   "outputs": [
    {
     "name": "stdout",
     "output_type": "stream",
     "text": [
      "\n",
      "Unadjusted (biased) Estimate:\n",
      "\n",
      "---------------------------\n",
      "\n",
      "\n",
      "Fixed-effects (within) regression               Number of obs     =        663\n",
      "Group variable: sid                             Number of groups  =         25\n",
      "\n",
      "R-sq:                                           Obs per group:\n",
      "     within  = 0.0027                                         min =         13\n",
      "     between = 0.5772                                         avg =       26.5\n",
      "     overall = 0.0190                                         max =         38\n",
      "\n",
      "                                                F(1,637)          =       1.71\n",
      "corr(u_i, Xb)  = 0.3871                         Prob > F          =     0.1912\n",
      "\n",
      "------------------------------------------------------------------------------\n",
      "        make |      Coef.   Std. Err.      t    P>|t|     [95% Conf. Interval]\n",
      "-------------+----------------------------------------------------------------\n",
      "dMade3ormore |    .059581   .0455326     1.31   0.191    -.0298312    .1489932\n",
      "       _cons |    .439123   .0273333    16.07   0.000     .3854487    .4927974\n",
      "-------------+----------------------------------------------------------------\n",
      "     sigma_u |  .10013841\n",
      "     sigma_e |  .49486738\n",
      "         rho |  .03933644   (fraction of variance due to u_i)\n",
      "------------------------------------------------------------------------------\n",
      "F test that all u_i=0: F(24, 637) = 0.99                     Prob > F = 0.4839\n",
      "\n",
      " ( 1)  dMade3ormore = -.0403383\n",
      "\n",
      "       F(  1,   637) =    4.82\n",
      "            Prob > F =    0.0286\n",
      "\n",
      "++++++++++++++++++++++++++++++++++++++++++++++++++++++++++++++++++++++++\n",
      "\n",
      "Bias Corrected Hot hand Effect = .09991928\n",
      "\n",
      "Pvalue of Test with hot hand alternative = .01428151\n"
     ]
    }
   ],
   "source": [
    "disp \"Unadjusted (biased) Estimate:\"\n",
    "disp \"---------------------------\"\n",
    "ttest_beta, k(3) sim_data(MS_Bias_without109_k3.dta) command(\"drop if sid ==109\")\n",
    "\n",
    "disp \"++++++++++++++++++++++++++++++++++++++++++++++++++++++++++++++++++++++++\"\n",
    "disp \"Bias Corrected Hot hand Effect = \" r(hot_hand_effect)\n",
    "disp \"Pvalue of Test with hot hand alternative = \"  r(pvalue_right_tail)"
   ]
  },
  {
   "cell_type": "markdown",
   "metadata": {},
   "source": [
    "**Robust to stricter definition of a streak? Length 4 or longer: hot hand effect = 12.4pp (SE 6.4)**"
   ]
  },
  {
   "cell_type": "code",
   "execution_count": 10,
   "metadata": {},
   "outputs": [
    {
     "name": "stdout",
     "output_type": "stream",
     "text": [
      "\n",
      "Unadjusted (biased) Estimate:\n",
      "\n",
      "---------------------------\n",
      "\n",
      "\n",
      "Fixed-effects (within) regression               Number of obs     =        375\n",
      "Group variable: sid                             Number of groups  =         25\n",
      "\n",
      "R-sq:                                           Obs per group:\n",
      "     within  = 0.0012                                         min =          5\n",
      "     between = 0.4804                                         avg =       15.0\n",
      "     overall = 0.0268                                         max =         25\n",
      "\n",
      "                                                F(1,349)          =       0.44\n",
      "corr(u_i, Xb)  = 0.4644                         Prob > F          =     0.5093\n",
      "\n",
      "------------------------------------------------------------------------------\n",
      "        make |      Coef.   Std. Err.      t    P>|t|     [95% Conf. Interval]\n",
      "-------------+----------------------------------------------------------------\n",
      "dMade4ormore |     .04332   .0655818     0.66   0.509    -.0856653    .1723052\n",
      "       _cons |   .4171076   .0368046    11.33   0.000      .344721    .4894943\n",
      "-------------+----------------------------------------------------------------\n",
      "     sigma_u |  .12812734\n",
      "     sigma_e |   .4929305\n",
      "         rho |  .06328758   (fraction of variance due to u_i)\n",
      "------------------------------------------------------------------------------\n",
      "F test that all u_i=0: F(24, 349) = 0.84                     Prob > F = 0.6883\n",
      "\n",
      " ( 1)  dMade4ormore = -.0765781\n",
      "\n",
      "       F(  1,   349) =    3.34\n",
      "            Prob > F =    0.0684\n",
      "\n",
      "++++++++++++++++++++++++++++++++++++++++++++++++++++++++++++++++++++++++\n",
      "\n",
      "Bias Corrected Hot hand Effect = .1198981\n",
      "\n",
      "Pvalue of Test with hot hand alternative = .03418479\n"
     ]
    }
   ],
   "source": [
    "disp \"Unadjusted (biased) Estimate:\"\n",
    "disp \"---------------------------\"\n",
    "ttest_beta, k(4) sim_data(MS_Bias_without109_k4.dta) command(\"drop if sid ==109\")\n",
    "\n",
    "disp \"++++++++++++++++++++++++++++++++++++++++++++++++++++++++++++++++++++++++\"\n",
    "disp \"Bias Corrected Hot hand Effect = \" r(hot_hand_effect)\n",
    "disp \"Pvalue of Test with hot hand alternative = \"  r(pvalue_right_tail)"
   ]
  },
  {
   "cell_type": "markdown",
   "metadata": {},
   "source": [
    "## 5. An exact test of the regression coefficient"
   ]
  },
  {
   "cell_type": "markdown",
   "metadata": {},
   "source": [
    "We perform an exact test on the estimate for $\\beta$ in the linear probability model: \n",
    "$$\\text{hit}_{it} = \\alpha + \\beta* \\text{hit_previous_k_shots}_{it} +\\gamma_i$$\n",
    "where $\\gamma_i$ represent shooter fixed effects "
   ]
  },
  {
   "cell_type": "markdown",
   "metadata": {},
   "source": [
    "### Step 0: Define the model to estimate"
   ]
  },
  {
   "cell_type": "code",
   "execution_count": 3,
   "metadata": {},
   "outputs": [],
   "source": [
    "cap program drop fixed_effect_reg\n",
    "program define fixed_effect_reg, rclass\n",
    "\tsyntax [,  k(integer 3) command(string) ]\n",
    "\t*This code regenerates GVT's shot outcomes, randomly \n",
    "\t*Then runs a fixed effect regression (biased), and returns the coefficient estimate \n",
    "\t*hitting k or more in row\n",
    "\n",
    "\t\n",
    "\t*Flexible, to add any command here:\n",
    "\t`command'\n",
    "\tcap drop dMade`k'ormore\n",
    "\tcap drop dMissed`k'ormore\n",
    "\n",
    "\t\n",
    "\t\n",
    "\t*Build streak condition statement\n",
    "\tlocal make=\"make[_n-1]==1\"\n",
    "\tlocal miss=\"make[_n-1]==0\"\n",
    "\tforvalues i=2(1)`k'{\n",
    "\t\tlocal make=\"`make' & make[_n-`i']==1\"\n",
    "\t\tlocal miss=\"`miss' & make[_n-`i']==0\"\n",
    "\t}\n",
    "\t\n",
    "\t*Generate the regressor:\n",
    "\tgen dMade`k'ormore=`make' if period>`k'\n",
    "\tgen dMissed`k'ormore=`miss' if period>`k'\n",
    "\t\n",
    "\t*fixed effect regression \n",
    "\treg make dMade`k'ormore i.sid if dMade`k'ormore==1| dMissed`k'ormore==1\n",
    "\t\n",
    "\t*return the coefficent\n",
    "\treturn scalar beta=el(r(table),1,1)\n",
    "end\n"
   ]
  },
  {
   "cell_type": "markdown",
   "metadata": {},
   "source": [
    "### Step 1: generate the (approximate) exact sampling distribution for $\\hat{\\beta}$ under the assumption of exchangeability\n",
    "\n",
    "This step will take about 15 min"
   ]
  },
  {
   "cell_type": "code",
   "execution_count": null,
   "metadata": {},
   "outputs": [],
   "source": [
    "clear\n",
    "use gilovichshooters.dta\n",
    "\n",
    "*Full panel\t\n",
    "qui: permute make beta = r(beta), seed(2021) reps(10000) strata(sid)  ///\n",
    "\t\t\t\tsaving(permute_regression_fe_keep_109_k3) right nodrop ///\n",
    "\t\t\t\t: fixed_effect_reg, k(3)\n",
    "qui: permute make beta = r(beta), seed(2021) reps(10000) strata(sid)  ///\n",
    "\t\t\t\t\tsaving(permute_regression_fe_keep_109_k4) right nodrop ///\n",
    "\t\t\t\t\t: fixed_effect_reg, k(4)\n",
    "\n",
    "*Drop shooter 109:\n",
    "drop if sid == 109\t\t\t\t\n",
    "qui: permute make beta = r(beta), seed(2021) reps(10000) strata(sid)  ///\n",
    "\t\t\t\tsaving(permute_regression_fe_drop_109_k3) right nodrop ///\n",
    "\t\t\t\t: fixed_effect_reg, k(3)\t\n",
    "\t\t\t\t\t\t\n",
    "qui: permute make beta = r(beta), seed(2021) reps(10000) strata(sid)  ///\n",
    "\t\t\t\tsaving(permute_regression_fe"
   ]
  },
  {
   "cell_type": "markdown",
   "metadata": {},
   "source": [
    "### Step 2: Report the results of the permutation test\n",
    "\n",
    "(note the sampling distribution is assymetric so we report the right tail)"
   ]
  },
  {
   "cell_type": "markdown",
   "metadata": {},
   "source": [
    "- GVT's Full sample:"
   ]
  },
  {
   "cell_type": "code",
   "execution_count": 2,
   "metadata": {},
   "outputs": [
    {
     "name": "stdout",
     "output_type": "stream",
     "text": [
      "\n",
      "Monte Carlo permutation results           Number of observations  =       2,515\n",
      "                                          Number of strata        =          26\n",
      "                                          Number of permutations  =      10,000\n",
      "\n",
      "      command:  fixed_effect_reg, k(3)\n",
      "         beta:  r(beta)\n",
      "  permute var:  make\n",
      "\n",
      "-------------------------------------------------------------------------------\n",
      "             |                                               Monte Carlo error\n",
      "             |                                              -------------------\n",
      "           T |    T(obs)       Test       c       n      p  SE(p)   [95% CI(p)]\n",
      "-------------+-----------------------------------------------------------------\n",
      "        beta |  .0986598      upper       9    9998  .0009  .0003  .0004  .0017\n",
      "-------------------------------------------------------------------------------\n",
      "Note: For upper one-sided test, c = #{T >= T(obs)} and p = p_upper = c/n.\n"
     ]
    }
   ],
   "source": [
    "permute using permute_regression_fe_keep_109_k3, right"
   ]
  },
  {
   "cell_type": "markdown",
   "metadata": {},
   "source": [
    "- GVT without shooter 109, it is robust"
   ]
  },
  {
   "cell_type": "code",
   "execution_count": 5,
   "metadata": {},
   "outputs": [
    {
     "name": "stdout",
     "output_type": "stream",
     "text": [
      "\n",
      "Monte Carlo permutation results           Number of observations  =       2,415\n",
      "                                          Number of strata        =          25\n",
      "                                          Number of permutations  =      10,000\n",
      "\n",
      "      command:  fixed_effect_reg, k(3)\n",
      "         beta:  r(beta)\n",
      "  permute var:  make\n",
      "\n",
      "-------------------------------------------------------------------------------\n",
      "             |                                               Monte Carlo error\n",
      "             |                                              -------------------\n",
      "           T |    T(obs)       Test       c       n      p  SE(p)   [95% CI(p)]\n",
      "-------------+-----------------------------------------------------------------\n",
      "        beta |   .059581      upper     147    9999  .0147  .0012  .0124  .0173\n",
      "-------------------------------------------------------------------------------\n",
      "Note: For upper one-sided test, c = #{T >= T(obs)} and p = p_upper = c/n.\n"
     ]
    }
   ],
   "source": [
    "permute using permute_regression_fe_drop_109_k3, right"
   ]
  },
  {
   "cell_type": "markdown",
   "metadata": {},
   "source": [
    "### Strict version of a streak w/$k=4$ we cut the data in nearly half (not displayed in permute output)\n",
    "\n",
    "the results are borderline"
   ]
  },
  {
   "cell_type": "code",
   "execution_count": 6,
   "metadata": {},
   "outputs": [
    {
     "name": "stdout",
     "output_type": "stream",
     "text": [
      "\n",
      "Monte Carlo permutation results           Number of observations  =       2,515\n",
      "                                          Number of strata        =          26\n",
      "                                          Number of permutations  =      10,000\n",
      "\n",
      "      command:  fixed_effect_reg, k(4)\n",
      "         beta:  r(beta)\n",
      "  permute var:  make\n",
      "\n",
      "-------------------------------------------------------------------------------\n",
      "             |                                               Monte Carlo error\n",
      "             |                                              -------------------\n",
      "           T |    T(obs)       Test       c       n      p  SE(p)   [95% CI(p)]\n",
      "-------------+-----------------------------------------------------------------\n",
      "        beta |  .0922405      upper      84    9620  .0087  .0009  .0070  .0108\n",
      "-------------------------------------------------------------------------------\n",
      "Note: For upper one-sided test, c = #{T >= T(obs)} and p = p_upper = c/n.\n"
     ]
    }
   ],
   "source": [
    "permute using permute_regression_fe_keep_109_k4, right"
   ]
  },
  {
   "cell_type": "code",
   "execution_count": 7,
   "metadata": {},
   "outputs": [
    {
     "name": "stdout",
     "output_type": "stream",
     "text": [
      "\n",
      "Monte Carlo permutation results           Number of observations  =       2,415\n",
      "                                          Number of strata        =          25\n",
      "                                          Number of permutations  =      10,000\n",
      "\n",
      "      command:  fixed_effect_reg, k(4)\n",
      "         beta:  r(beta)\n",
      "  permute var:  make\n",
      "\n",
      "-------------------------------------------------------------------------------\n",
      "             |                                               Monte Carlo error\n",
      "             |                                              -------------------\n",
      "           T |    T(obs)       Test       c       n      p  SE(p)   [95% CI(p)]\n",
      "-------------+-----------------------------------------------------------------\n",
      "        beta |    .04332      upper     475    9635  .0493  .0022  .0451  .0538\n",
      "-------------------------------------------------------------------------------\n",
      "Note: For upper one-sided test, c = #{T >= T(obs)} and p = p_upper = c/n.\n"
     ]
    }
   ],
   "source": [
    "permute using permute_regression_fe_drop_109_k4, right"
   ]
  },
  {
   "cell_type": "markdown",
   "metadata": {},
   "source": [
    "## 6: Guys vs. Gals"
   ]
  },
  {
   "cell_type": "code",
   "execution_count": 12,
   "metadata": {},
   "outputs": [
    {
     "name": "stdout",
     "output_type": "stream",
     "text": [
      "\n",
      "\n",
      "\n",
      ". cap noi twoway (rspike ui95 li95 male, lwidth(thin)) (rspike ui_se li_se male, lwidth(vthick)) (scatter diff male, msymbol(circle)), ytitle(Increase in shooting percentage (in percentage points)) yline(0, lpattern(dash)) ylabel(, angle(horizontal)) xtit\n",
      "> le(\"\") xscale(range(-.5 1.5)) xlabel(0 \"females [12]\" 1 \"males [14]\") title(Increase in Shooting Percentage after hitting 3+) legend(on order(1 \"95% CI\" 2 \"se\" 3 \"estimate\") rows(1)) scheme(s1mono) scale(1)\n",
      "\n",
      ". if _rc == 0 {\n",
      ".     noi gr export C:/Users/joshu/.stata_kernel_cache/graph$stata_kernel_graph_counter.svg, width(600) replace\n"
     ]
    },
    {
     "data": {
      "application/pdf": "[encoded data removed]",
      "image/svg+xml": [
       "<?xml version=\"1.0\" encoding=\"UTF-8\" standalone=\"no\"?>\n",
       "<!-- This is a Stata 15.1 generated SVG file (http://www.stata.com) -->\n",
       "\n",
       "<svg version=\"1.1\" width=\"600px\" height=\"436px\" viewBox=\"0 0 3960 2880\" xmlns=\"http://www.w3.org/2000/svg\" xmlns:xlink=\"http://www.w3.org/1999/xlink\">\n",
       "\t<desc>Stata Graph - Graph</desc>\n",
       "\t<rect x=\"0\" y=\"0\" width=\"3960\" height=\"2880\" style=\"fill:#FFFFFF;stroke:none\"/>\n",
       "\t<rect x=\"0.00\" y=\"0.00\" width=\"3959.88\" height=\"2880.00\" style=\"fill:#FFFFFF\"/>\n",
       "\t<rect x=\"2.88\" y=\"2.88\" width=\"3954.12\" height=\"2874.24\" style=\"fill:none;stroke:#FFFFFF;stroke-width:5.76\"/>\n",
       "\t<rect x=\"439.47\" y=\"278.23\" width=\"3416.67\" height=\"2052.51\" style=\"fill:none;stroke:#000000;stroke-width:5.76\"/>\n",
       "\t<line x1=\"436.59\" y1=\"2172.25\" x2=\"494.13\" y2=\"2172.25\" style=\"stroke:#303030;stroke-width:8.64\"/>\n",
       "\t<line x1=\"522.97\" y1=\"2172.25\" x2=\"580.51\" y2=\"2172.25\" style=\"stroke:#303030;stroke-width:8.64\"/>\n",
       "\t<line x1=\"609.35\" y1=\"2172.25\" x2=\"666.89\" y2=\"2172.25\" style=\"stroke:#303030;stroke-width:8.64\"/>\n",
       "\t<line x1=\"695.72\" y1=\"2172.25\" x2=\"753.27\" y2=\"2172.25\" style=\"stroke:#303030;stroke-width:8.64\"/>\n",
       "\t<line x1=\"782.10\" y1=\"2172.25\" x2=\"839.64\" y2=\"2172.25\" style=\"stroke:#303030;stroke-width:8.64\"/>\n",
       "\t<line x1=\"868.48\" y1=\"2172.25\" x2=\"926.14\" y2=\"2172.25\" style=\"stroke:#303030;stroke-width:8.64\"/>\n",
       "\t<line x1=\"954.86\" y1=\"2172.25\" x2=\"1012.52\" y2=\"2172.25\" style=\"stroke:#303030;stroke-width:8.64\"/>\n",
       "\t<line x1=\"1041.36\" y1=\"2172.25\" x2=\"1098.90\" y2=\"2172.25\" style=\"stroke:#303030;stroke-width:8.64\"/>\n",
       "\t<line x1=\"1127.73\" y1=\"2172.25\" x2=\"1185.28\" y2=\"2172.25\" style=\"stroke:#303030;stroke-width:8.64\"/>\n",
       "\t<line x1=\"1214.11\" y1=\"2172.25\" x2=\"1271.65\" y2=\"2172.25\" style=\"stroke:#303030;stroke-width:8.64\"/>\n",
       "\t<line x1=\"1300.49\" y1=\"2172.25\" x2=\"1358.03\" y2=\"2172.25\" style=\"stroke:#303030;stroke-width:8.64\"/>\n",
       "\t<line x1=\"1386.87\" y1=\"2172.25\" x2=\"1444.41\" y2=\"2172.25\" style=\"stroke:#303030;stroke-width:8.64\"/>\n",
       "\t<line x1=\"1473.24\" y1=\"2172.25\" x2=\"1530.79\" y2=\"2172.25\" style=\"stroke:#303030;stroke-width:8.64\"/>\n",
       "\t<line x1=\"1559.62\" y1=\"2172.25\" x2=\"1617.16\" y2=\"2172.25\" style=\"stroke:#303030;stroke-width:8.64\"/>\n",
       "\t<line x1=\"1646.00\" y1=\"2172.25\" x2=\"1703.54\" y2=\"2172.25\" style=\"stroke:#303030;stroke-width:8.64\"/>\n",
       "\t<line x1=\"1732.38\" y1=\"2172.25\" x2=\"1789.92\" y2=\"2172.25\" style=\"stroke:#303030;stroke-width:8.64\"/>\n",
       "\t<line x1=\"1818.75\" y1=\"2172.25\" x2=\"1876.42\" y2=\"2172.25\" style=\"stroke:#303030;stroke-width:8.64\"/>\n",
       "\t<line x1=\"1905.13\" y1=\"2172.25\" x2=\"1962.80\" y2=\"2172.25\" style=\"stroke:#303030;stroke-width:8.64\"/>\n",
       "\t<line x1=\"1991.63\" y1=\"2172.25\" x2=\"2049.18\" y2=\"2172.25\" style=\"stroke:#303030;stroke-width:8.64\"/>\n",
       "\t<line x1=\"2078.01\" y1=\"2172.25\" x2=\"2135.55\" y2=\"2172.25\" style=\"stroke:#303030;stroke-width:8.64\"/>\n",
       "\t<line x1=\"2164.39\" y1=\"2172.25\" x2=\"2221.93\" y2=\"2172.25\" style=\"stroke:#303030;stroke-width:8.64\"/>\n",
       "\t<line x1=\"2250.76\" y1=\"2172.25\" x2=\"2308.31\" y2=\"2172.25\" style=\"stroke:#303030;stroke-width:8.64\"/>\n",
       "\t<line x1=\"2337.14\" y1=\"2172.25\" x2=\"2394.69\" y2=\"2172.25\" style=\"stroke:#303030;stroke-width:8.64\"/>\n",
       "\t<line x1=\"2423.52\" y1=\"2172.25\" x2=\"2481.06\" y2=\"2172.25\" style=\"stroke:#303030;stroke-width:8.64\"/>\n",
       "\t<line x1=\"2509.90\" y1=\"2172.25\" x2=\"2567.44\" y2=\"2172.25\" style=\"stroke:#303030;stroke-width:8.64\"/>\n",
       "\t<line x1=\"2596.28\" y1=\"2172.25\" x2=\"2653.82\" y2=\"2172.25\" style=\"stroke:#303030;stroke-width:8.64\"/>\n",
       "\t<line x1=\"2682.65\" y1=\"2172.25\" x2=\"2740.32\" y2=\"2172.25\" style=\"stroke:#303030;stroke-width:8.64\"/>\n",
       "\t<line x1=\"2769.03\" y1=\"2172.25\" x2=\"2826.70\" y2=\"2172.25\" style=\"stroke:#303030;stroke-width:8.64\"/>\n",
       "\t<line x1=\"2855.41\" y1=\"2172.25\" x2=\"2913.07\" y2=\"2172.25\" style=\"stroke:#303030;stroke-width:8.64\"/>\n",
       "\t<line x1=\"2941.91\" y1=\"2172.25\" x2=\"2999.45\" y2=\"2172.25\" style=\"stroke:#303030;stroke-width:8.64\"/>\n",
       "\t<line x1=\"3028.29\" y1=\"2172.25\" x2=\"3085.83\" y2=\"2172.25\" style=\"stroke:#303030;stroke-width:8.64\"/>\n",
       "\t<line x1=\"3114.66\" y1=\"2172.25\" x2=\"3172.21\" y2=\"2172.25\" style=\"stroke:#303030;stroke-width:8.64\"/>\n",
       "\t<line x1=\"3201.04\" y1=\"2172.25\" x2=\"3258.59\" y2=\"2172.25\" style=\"stroke:#303030;stroke-width:8.64\"/>\n",
       "\t<line x1=\"3287.42\" y1=\"2172.25\" x2=\"3344.96\" y2=\"2172.25\" style=\"stroke:#303030;stroke-width:8.64\"/>\n",
       "\t<line x1=\"3373.80\" y1=\"2172.25\" x2=\"3431.34\" y2=\"2172.25\" style=\"stroke:#303030;stroke-width:8.64\"/>\n",
       "\t<line x1=\"3460.17\" y1=\"2172.25\" x2=\"3517.72\" y2=\"2172.25\" style=\"stroke:#303030;stroke-width:8.64\"/>\n",
       "\t<line x1=\"3546.55\" y1=\"2172.25\" x2=\"3604.09\" y2=\"2172.25\" style=\"stroke:#303030;stroke-width:8.64\"/>\n",
       "\t<line x1=\"3632.93\" y1=\"2172.25\" x2=\"3690.60\" y2=\"2172.25\" style=\"stroke:#303030;stroke-width:8.64\"/>\n",
       "\t<line x1=\"3719.31\" y1=\"2172.25\" x2=\"3776.97\" y2=\"2172.25\" style=\"stroke:#303030;stroke-width:8.64\"/>\n",
       "\t<line x1=\"3805.68\" y1=\"2172.25\" x2=\"3859.02\" y2=\"2172.25\" style=\"stroke:#303030;stroke-width:8.64\"/>\n",
       "\t<line x1=\"2971.73\" y1=\"745.62\" x2=\"2971.73\" y2=\"2270.39\" style=\"stroke:#606060;stroke-width:5.76\"/>\n",
       "\t<line x1=\"1323.88\" y1=\"440.69\" x2=\"1323.88\" y2=\"1862.25\" style=\"stroke:#606060;stroke-width:5.76\"/>\n",
       "\t<line x1=\"2971.73\" y1=\"1120.47\" x2=\"2971.73\" y2=\"1895.54\" style=\"stroke:#A0A0A0;stroke-width:40.32\"/>\n",
       "\t<line x1=\"1323.88\" y1=\"790.04\" x2=\"1323.88\" y2=\"1512.89\" style=\"stroke:#A0A0A0;stroke-width:40.32\"/>\n",
       "\t<circle cx=\"2971.73\" cy=\"1508.06\" r=\"26.35\" style=\"fill:#808080\"/>\n",
       "\t<circle cx=\"2971.73\" cy=\"1508.06\" r=\"22.03\" style=\"fill:none;stroke:#808080;stroke-width:8.64\"/>\n",
       "\t<circle cx=\"1323.88\" cy=\"1151.53\" r=\"26.35\" style=\"fill:#808080\"/>\n",
       "\t<circle cx=\"1323.88\" cy=\"1151.53\" r=\"22.03\" style=\"fill:none;stroke:#808080;stroke-width:8.64\"/>\n",
       "\t<line x1=\"436.59\" y1=\"2333.63\" x2=\"436.59\" y2=\"275.35\" style=\"stroke:#000000;stroke-width:5.76\"/>\n",
       "\t<line x1=\"436.59\" y1=\"2172.25\" x2=\"396.62\" y2=\"2172.25\" style=\"stroke:#000000;stroke-width:5.76\"/>\n",
       "\t<text x=\"376.57\" y=\"2207.28\" style=\"font-family:'Helvetica';font-size:99.99px;fill:#000000\" text-anchor=\"end\">0</text>\n",
       "\t<line x1=\"436.59\" y1=\"1561.03\" x2=\"396.62\" y2=\"1561.03\" style=\"stroke:#000000;stroke-width:5.76\"/>\n",
       "\t<text x=\"376.57\" y=\"1596.06\" style=\"font-family:'Helvetica';font-size:99.99px;fill:#000000\" text-anchor=\"end\">10</text>\n",
       "\t<line x1=\"436.59\" y1=\"949.93\" x2=\"396.62\" y2=\"949.93\" style=\"stroke:#000000;stroke-width:5.76\"/>\n",
       "\t<text x=\"376.57\" y=\"984.96\" style=\"font-family:'Helvetica';font-size:99.99px;fill:#000000\" text-anchor=\"end\">20</text>\n",
       "\t<line x1=\"436.59\" y1=\"338.71\" x2=\"396.62\" y2=\"338.71\" style=\"stroke:#000000;stroke-width:5.76\"/>\n",
       "\t<text x=\"376.57\" y=\"373.74\" style=\"font-family:'Helvetica';font-size:99.99px;fill:#000000\" text-anchor=\"end\">30</text>\n",
       "\t<text x=\"190.71\" y=\"1304.49\" style=\"font-family:'Helvetica';font-size:99.99px;fill:#000000\" transform=\"rotate(-90 190.71,1304.49)\" text-anchor=\"middle\">Increase in shooting percentage (in percentage points)</text>\n",
       "\t<line x1=\"436.59\" y1=\"2333.63\" x2=\"3859.02\" y2=\"2333.63\" style=\"stroke:#000000;stroke-width:5.76\"/>\n",
       "\t<line x1=\"1323.88\" y1=\"2333.63\" x2=\"1323.88\" y2=\"2373.72\" style=\"stroke:#000000;stroke-width:5.76\"/>\n",
       "\t<text x=\"1323.88\" y=\"2463.58\" style=\"font-family:'Helvetica';font-size:99.99px;fill:#000000\" text-anchor=\"middle\">females [12]</text>\n",
       "\t<line x1=\"2971.73\" y1=\"2333.63\" x2=\"2971.73\" y2=\"2373.72\" style=\"stroke:#000000;stroke-width:5.76\"/>\n",
       "\t<text x=\"2971.73\" y=\"2463.58\" style=\"font-family:'Helvetica';font-size:99.99px;fill:#000000\" text-anchor=\"middle\">males [14]</text>\n",
       "\t<rect x=\"1053.86\" y=\"2558.24\" width=\"2187.90\" height=\"186.37\" style=\"fill:#FFFFFF\"/>\n",
       "\t<rect x=\"1056.73\" y=\"2561.12\" width=\"2182.14\" height=\"180.61\" style=\"fill:none;stroke:#000000;stroke-width:5.76\"/>\n",
       "\t<line x1=\"1097.17\" y1=\"2651.43\" x2=\"1471.51\" y2=\"2651.43\" style=\"stroke:#606060;stroke-width:5.76\"/>\n",
       "\t<line x1=\"2012.67\" y1=\"2651.43\" x2=\"2387.14\" y2=\"2651.43\" style=\"stroke:#A0A0A0;stroke-width:40.32\"/>\n",
       "\t<circle cx=\"2719.90\" cy=\"2651.43\" r=\"26.35\" style=\"fill:#808080\"/>\n",
       "\t<circle cx=\"2719.90\" cy=\"2651.43\" r=\"22.03\" style=\"fill:none;stroke:#808080;stroke-width:8.64\"/>\n",
       "\t<text x=\"1531.53\" y=\"2686.46\" style=\"font-family:'Helvetica';font-size:99.99px;fill:#000000\">95% CI</text>\n",
       "\t<text x=\"2447.16\" y=\"2686.46\" style=\"font-family:'Helvetica';font-size:99.99px;fill:#000000\">se</text>\n",
       "\t<text x=\"2801.95\" y=\"2686.46\" style=\"font-family:'Helvetica';font-size:99.99px;fill:#000000\">estimate</text>\n",
       "\t<text x=\"2147.80\" y=\"215.98\" style=\"font-family:'Helvetica';font-size:139.96px;fill:#000000\" text-anchor=\"middle\">Increase in Shooting Percentage after hitting 3+</text>\n",
       "</svg>\n"
      ],
      "text/html": [
       "                <iframe frameborder=\"0\" scrolling=\"no\" height=\"436\" width=\"600\"                srcdoc=\"<html><body>&lt;?xml version=&quot;1.0&quot; encoding=&quot;UTF-8&quot; standalone=&quot;no&quot;?&gt;\n",
       "&lt;!-- This is a Stata 15.1 generated SVG file (http://www.stata.com) --&gt;\n",
       "\n",
       "&lt;svg version=&quot;1.1&quot; width=&quot;600px&quot; height=&quot;436px&quot; viewBox=&quot;0 0 3960 2880&quot; xmlns=&quot;http://www.w3.org/2000/svg&quot; xmlns:xlink=&quot;http://www.w3.org/1999/xlink&quot;&gt;\n",
       "\t&lt;desc&gt;Stata Graph - Graph&lt;/desc&gt;\n",
       "\t&lt;rect x=&quot;0&quot; y=&quot;0&quot; width=&quot;3960&quot; height=&quot;2880&quot; style=&quot;fill:#FFFFFF;stroke:none&quot;/&gt;\n",
       "\t&lt;rect x=&quot;0.00&quot; y=&quot;0.00&quot; width=&quot;3959.88&quot; height=&quot;2880.00&quot; style=&quot;fill:#FFFFFF&quot;/&gt;\n",
       "\t&lt;rect x=&quot;2.88&quot; y=&quot;2.88&quot; width=&quot;3954.12&quot; height=&quot;2874.24&quot; style=&quot;fill:none;stroke:#FFFFFF;stroke-width:5.76&quot;/&gt;\n",
       "\t&lt;rect x=&quot;439.47&quot; y=&quot;278.23&quot; width=&quot;3416.67&quot; height=&quot;2052.51&quot; style=&quot;fill:none;stroke:#000000;stroke-width:5.76&quot;/&gt;\n",
       "\t&lt;line x1=&quot;436.59&quot; y1=&quot;2172.25&quot; x2=&quot;494.13&quot; y2=&quot;2172.25&quot; style=&quot;stroke:#303030;stroke-width:8.64&quot;/&gt;\n",
       "\t&lt;line x1=&quot;522.97&quot; y1=&quot;2172.25&quot; x2=&quot;580.51&quot; y2=&quot;2172.25&quot; style=&quot;stroke:#303030;stroke-width:8.64&quot;/&gt;\n",
       "\t&lt;line x1=&quot;609.35&quot; y1=&quot;2172.25&quot; x2=&quot;666.89&quot; y2=&quot;2172.25&quot; style=&quot;stroke:#303030;stroke-width:8.64&quot;/&gt;\n",
       "\t&lt;line x1=&quot;695.72&quot; y1=&quot;2172.25&quot; x2=&quot;753.27&quot; y2=&quot;2172.25&quot; style=&quot;stroke:#303030;stroke-width:8.64&quot;/&gt;\n",
       "\t&lt;line x1=&quot;782.10&quot; y1=&quot;2172.25&quot; x2=&quot;839.64&quot; y2=&quot;2172.25&quot; style=&quot;stroke:#303030;stroke-width:8.64&quot;/&gt;\n",
       "\t&lt;line x1=&quot;868.48&quot; y1=&quot;2172.25&quot; x2=&quot;926.14&quot; y2=&quot;2172.25&quot; style=&quot;stroke:#303030;stroke-width:8.64&quot;/&gt;\n",
       "\t&lt;line x1=&quot;954.86&quot; y1=&quot;2172.25&quot; x2=&quot;1012.52&quot; y2=&quot;2172.25&quot; style=&quot;stroke:#303030;stroke-width:8.64&quot;/&gt;\n",
       "\t&lt;line x1=&quot;1041.36&quot; y1=&quot;2172.25&quot; x2=&quot;1098.90&quot; y2=&quot;2172.25&quot; style=&quot;stroke:#303030;stroke-width:8.64&quot;/&gt;\n",
       "\t&lt;line x1=&quot;1127.73&quot; y1=&quot;2172.25&quot; x2=&quot;1185.28&quot; y2=&quot;2172.25&quot; style=&quot;stroke:#303030;stroke-width:8.64&quot;/&gt;\n",
       "\t&lt;line x1=&quot;1214.11&quot; y1=&quot;2172.25&quot; x2=&quot;1271.65&quot; y2=&quot;2172.25&quot; style=&quot;stroke:#303030;stroke-width:8.64&quot;/&gt;\n",
       "\t&lt;line x1=&quot;1300.49&quot; y1=&quot;2172.25&quot; x2=&quot;1358.03&quot; y2=&quot;2172.25&quot; style=&quot;stroke:#303030;stroke-width:8.64&quot;/&gt;\n",
       "\t&lt;line x1=&quot;1386.87&quot; y1=&quot;2172.25&quot; x2=&quot;1444.41&quot; y2=&quot;2172.25&quot; style=&quot;stroke:#303030;stroke-width:8.64&quot;/&gt;\n",
       "\t&lt;line x1=&quot;1473.24&quot; y1=&quot;2172.25&quot; x2=&quot;1530.79&quot; y2=&quot;2172.25&quot; style=&quot;stroke:#303030;stroke-width:8.64&quot;/&gt;\n",
       "\t&lt;line x1=&quot;1559.62&quot; y1=&quot;2172.25&quot; x2=&quot;1617.16&quot; y2=&quot;2172.25&quot; style=&quot;stroke:#303030;stroke-width:8.64&quot;/&gt;\n",
       "\t&lt;line x1=&quot;1646.00&quot; y1=&quot;2172.25&quot; x2=&quot;1703.54&quot; y2=&quot;2172.25&quot; style=&quot;stroke:#303030;stroke-width:8.64&quot;/&gt;\n",
       "\t&lt;line x1=&quot;1732.38&quot; y1=&quot;2172.25&quot; x2=&quot;1789.92&quot; y2=&quot;2172.25&quot; style=&quot;stroke:#303030;stroke-width:8.64&quot;/&gt;\n",
       "\t&lt;line x1=&quot;1818.75&quot; y1=&quot;2172.25&quot; x2=&quot;1876.42&quot; y2=&quot;2172.25&quot; style=&quot;stroke:#303030;stroke-width:8.64&quot;/&gt;\n",
       "\t&lt;line x1=&quot;1905.13&quot; y1=&quot;2172.25&quot; x2=&quot;1962.80&quot; y2=&quot;2172.25&quot; style=&quot;stroke:#303030;stroke-width:8.64&quot;/&gt;\n",
       "\t&lt;line x1=&quot;1991.63&quot; y1=&quot;2172.25&quot; x2=&quot;2049.18&quot; y2=&quot;2172.25&quot; style=&quot;stroke:#303030;stroke-width:8.64&quot;/&gt;\n",
       "\t&lt;line x1=&quot;2078.01&quot; y1=&quot;2172.25&quot; x2=&quot;2135.55&quot; y2=&quot;2172.25&quot; style=&quot;stroke:#303030;stroke-width:8.64&quot;/&gt;\n",
       "\t&lt;line x1=&quot;2164.39&quot; y1=&quot;2172.25&quot; x2=&quot;2221.93&quot; y2=&quot;2172.25&quot; style=&quot;stroke:#303030;stroke-width:8.64&quot;/&gt;\n",
       "\t&lt;line x1=&quot;2250.76&quot; y1=&quot;2172.25&quot; x2=&quot;2308.31&quot; y2=&quot;2172.25&quot; style=&quot;stroke:#303030;stroke-width:8.64&quot;/&gt;\n",
       "\t&lt;line x1=&quot;2337.14&quot; y1=&quot;2172.25&quot; x2=&quot;2394.69&quot; y2=&quot;2172.25&quot; style=&quot;stroke:#303030;stroke-width:8.64&quot;/&gt;\n",
       "\t&lt;line x1=&quot;2423.52&quot; y1=&quot;2172.25&quot; x2=&quot;2481.06&quot; y2=&quot;2172.25&quot; style=&quot;stroke:#303030;stroke-width:8.64&quot;/&gt;\n",
       "\t&lt;line x1=&quot;2509.90&quot; y1=&quot;2172.25&quot; x2=&quot;2567.44&quot; y2=&quot;2172.25&quot; style=&quot;stroke:#303030;stroke-width:8.64&quot;/&gt;\n",
       "\t&lt;line x1=&quot;2596.28&quot; y1=&quot;2172.25&quot; x2=&quot;2653.82&quot; y2=&quot;2172.25&quot; style=&quot;stroke:#303030;stroke-width:8.64&quot;/&gt;\n",
       "\t&lt;line x1=&quot;2682.65&quot; y1=&quot;2172.25&quot; x2=&quot;2740.32&quot; y2=&quot;2172.25&quot; style=&quot;stroke:#303030;stroke-width:8.64&quot;/&gt;\n",
       "\t&lt;line x1=&quot;2769.03&quot; y1=&quot;2172.25&quot; x2=&quot;2826.70&quot; y2=&quot;2172.25&quot; style=&quot;stroke:#303030;stroke-width:8.64&quot;/&gt;\n",
       "\t&lt;line x1=&quot;2855.41&quot; y1=&quot;2172.25&quot; x2=&quot;2913.07&quot; y2=&quot;2172.25&quot; style=&quot;stroke:#303030;stroke-width:8.64&quot;/&gt;\n",
       "\t&lt;line x1=&quot;2941.91&quot; y1=&quot;2172.25&quot; x2=&quot;2999.45&quot; y2=&quot;2172.25&quot; style=&quot;stroke:#303030;stroke-width:8.64&quot;/&gt;\n",
       "\t&lt;line x1=&quot;3028.29&quot; y1=&quot;2172.25&quot; x2=&quot;3085.83&quot; y2=&quot;2172.25&quot; style=&quot;stroke:#303030;stroke-width:8.64&quot;/&gt;\n",
       "\t&lt;line x1=&quot;3114.66&quot; y1=&quot;2172.25&quot; x2=&quot;3172.21&quot; y2=&quot;2172.25&quot; style=&quot;stroke:#303030;stroke-width:8.64&quot;/&gt;\n",
       "\t&lt;line x1=&quot;3201.04&quot; y1=&quot;2172.25&quot; x2=&quot;3258.59&quot; y2=&quot;2172.25&quot; style=&quot;stroke:#303030;stroke-width:8.64&quot;/&gt;\n",
       "\t&lt;line x1=&quot;3287.42&quot; y1=&quot;2172.25&quot; x2=&quot;3344.96&quot; y2=&quot;2172.25&quot; style=&quot;stroke:#303030;stroke-width:8.64&quot;/&gt;\n",
       "\t&lt;line x1=&quot;3373.80&quot; y1=&quot;2172.25&quot; x2=&quot;3431.34&quot; y2=&quot;2172.25&quot; style=&quot;stroke:#303030;stroke-width:8.64&quot;/&gt;\n",
       "\t&lt;line x1=&quot;3460.17&quot; y1=&quot;2172.25&quot; x2=&quot;3517.72&quot; y2=&quot;2172.25&quot; style=&quot;stroke:#303030;stroke-width:8.64&quot;/&gt;\n",
       "\t&lt;line x1=&quot;3546.55&quot; y1=&quot;2172.25&quot; x2=&quot;3604.09&quot; y2=&quot;2172.25&quot; style=&quot;stroke:#303030;stroke-width:8.64&quot;/&gt;\n",
       "\t&lt;line x1=&quot;3632.93&quot; y1=&quot;2172.25&quot; x2=&quot;3690.60&quot; y2=&quot;2172.25&quot; style=&quot;stroke:#303030;stroke-width:8.64&quot;/&gt;\n",
       "\t&lt;line x1=&quot;3719.31&quot; y1=&quot;2172.25&quot; x2=&quot;3776.97&quot; y2=&quot;2172.25&quot; style=&quot;stroke:#303030;stroke-width:8.64&quot;/&gt;\n",
       "\t&lt;line x1=&quot;3805.68&quot; y1=&quot;2172.25&quot; x2=&quot;3859.02&quot; y2=&quot;2172.25&quot; style=&quot;stroke:#303030;stroke-width:8.64&quot;/&gt;\n",
       "\t&lt;line x1=&quot;2971.73&quot; y1=&quot;745.62&quot; x2=&quot;2971.73&quot; y2=&quot;2270.39&quot; style=&quot;stroke:#606060;stroke-width:5.76&quot;/&gt;\n",
       "\t&lt;line x1=&quot;1323.88&quot; y1=&quot;440.69&quot; x2=&quot;1323.88&quot; y2=&quot;1862.25&quot; style=&quot;stroke:#606060;stroke-width:5.76&quot;/&gt;\n",
       "\t&lt;line x1=&quot;2971.73&quot; y1=&quot;1120.47&quot; x2=&quot;2971.73&quot; y2=&quot;1895.54&quot; style=&quot;stroke:#A0A0A0;stroke-width:40.32&quot;/&gt;\n",
       "\t&lt;line x1=&quot;1323.88&quot; y1=&quot;790.04&quot; x2=&quot;1323.88&quot; y2=&quot;1512.89&quot; style=&quot;stroke:#A0A0A0;stroke-width:40.32&quot;/&gt;\n",
       "\t&lt;circle cx=&quot;2971.73&quot; cy=&quot;1508.06&quot; r=&quot;26.35&quot; style=&quot;fill:#808080&quot;/&gt;\n",
       "\t&lt;circle cx=&quot;2971.73&quot; cy=&quot;1508.06&quot; r=&quot;22.03&quot; style=&quot;fill:none;stroke:#808080;stroke-width:8.64&quot;/&gt;\n",
       "\t&lt;circle cx=&quot;1323.88&quot; cy=&quot;1151.53&quot; r=&quot;26.35&quot; style=&quot;fill:#808080&quot;/&gt;\n",
       "\t&lt;circle cx=&quot;1323.88&quot; cy=&quot;1151.53&quot; r=&quot;22.03&quot; style=&quot;fill:none;stroke:#808080;stroke-width:8.64&quot;/&gt;\n",
       "\t&lt;line x1=&quot;436.59&quot; y1=&quot;2333.63&quot; x2=&quot;436.59&quot; y2=&quot;275.35&quot; style=&quot;stroke:#000000;stroke-width:5.76&quot;/&gt;\n",
       "\t&lt;line x1=&quot;436.59&quot; y1=&quot;2172.25&quot; x2=&quot;396.62&quot; y2=&quot;2172.25&quot; style=&quot;stroke:#000000;stroke-width:5.76&quot;/&gt;\n",
       "\t&lt;text x=&quot;376.57&quot; y=&quot;2207.28&quot; style=&quot;font-family:&#x27;Helvetica&#x27;;font-size:99.99px;fill:#000000&quot; text-anchor=&quot;end&quot;&gt;0&lt;/text&gt;\n",
       "\t&lt;line x1=&quot;436.59&quot; y1=&quot;1561.03&quot; x2=&quot;396.62&quot; y2=&quot;1561.03&quot; style=&quot;stroke:#000000;stroke-width:5.76&quot;/&gt;\n",
       "\t&lt;text x=&quot;376.57&quot; y=&quot;1596.06&quot; style=&quot;font-family:&#x27;Helvetica&#x27;;font-size:99.99px;fill:#000000&quot; text-anchor=&quot;end&quot;&gt;10&lt;/text&gt;\n",
       "\t&lt;line x1=&quot;436.59&quot; y1=&quot;949.93&quot; x2=&quot;396.62&quot; y2=&quot;949.93&quot; style=&quot;stroke:#000000;stroke-width:5.76&quot;/&gt;\n",
       "\t&lt;text x=&quot;376.57&quot; y=&quot;984.96&quot; style=&quot;font-family:&#x27;Helvetica&#x27;;font-size:99.99px;fill:#000000&quot; text-anchor=&quot;end&quot;&gt;20&lt;/text&gt;\n",
       "\t&lt;line x1=&quot;436.59&quot; y1=&quot;338.71&quot; x2=&quot;396.62&quot; y2=&quot;338.71&quot; style=&quot;stroke:#000000;stroke-width:5.76&quot;/&gt;\n",
       "\t&lt;text x=&quot;376.57&quot; y=&quot;373.74&quot; style=&quot;font-family:&#x27;Helvetica&#x27;;font-size:99.99px;fill:#000000&quot; text-anchor=&quot;end&quot;&gt;30&lt;/text&gt;\n",
       "\t&lt;text x=&quot;190.71&quot; y=&quot;1304.49&quot; style=&quot;font-family:&#x27;Helvetica&#x27;;font-size:99.99px;fill:#000000&quot; transform=&quot;rotate(-90 190.71,1304.49)&quot; text-anchor=&quot;middle&quot;&gt;Increase in shooting percentage (in percentage points)&lt;/text&gt;\n",
       "\t&lt;line x1=&quot;436.59&quot; y1=&quot;2333.63&quot; x2=&quot;3859.02&quot; y2=&quot;2333.63&quot; style=&quot;stroke:#000000;stroke-width:5.76&quot;/&gt;\n",
       "\t&lt;line x1=&quot;1323.88&quot; y1=&quot;2333.63&quot; x2=&quot;1323.88&quot; y2=&quot;2373.72&quot; style=&quot;stroke:#000000;stroke-width:5.76&quot;/&gt;\n",
       "\t&lt;text x=&quot;1323.88&quot; y=&quot;2463.58&quot; style=&quot;font-family:&#x27;Helvetica&#x27;;font-size:99.99px;fill:#000000&quot; text-anchor=&quot;middle&quot;&gt;females [12]&lt;/text&gt;\n",
       "\t&lt;line x1=&quot;2971.73&quot; y1=&quot;2333.63&quot; x2=&quot;2971.73&quot; y2=&quot;2373.72&quot; style=&quot;stroke:#000000;stroke-width:5.76&quot;/&gt;\n",
       "\t&lt;text x=&quot;2971.73&quot; y=&quot;2463.58&quot; style=&quot;font-family:&#x27;Helvetica&#x27;;font-size:99.99px;fill:#000000&quot; text-anchor=&quot;middle&quot;&gt;males [14]&lt;/text&gt;\n",
       "\t&lt;rect x=&quot;1053.86&quot; y=&quot;2558.24&quot; width=&quot;2187.90&quot; height=&quot;186.37&quot; style=&quot;fill:#FFFFFF&quot;/&gt;\n",
       "\t&lt;rect x=&quot;1056.73&quot; y=&quot;2561.12&quot; width=&quot;2182.14&quot; height=&quot;180.61&quot; style=&quot;fill:none;stroke:#000000;stroke-width:5.76&quot;/&gt;\n",
       "\t&lt;line x1=&quot;1097.17&quot; y1=&quot;2651.43&quot; x2=&quot;1471.51&quot; y2=&quot;2651.43&quot; style=&quot;stroke:#606060;stroke-width:5.76&quot;/&gt;\n",
       "\t&lt;line x1=&quot;2012.67&quot; y1=&quot;2651.43&quot; x2=&quot;2387.14&quot; y2=&quot;2651.43&quot; style=&quot;stroke:#A0A0A0;stroke-width:40.32&quot;/&gt;\n",
       "\t&lt;circle cx=&quot;2719.90&quot; cy=&quot;2651.43&quot; r=&quot;26.35&quot; style=&quot;fill:#808080&quot;/&gt;\n",
       "\t&lt;circle cx=&quot;2719.90&quot; cy=&quot;2651.43&quot; r=&quot;22.03&quot; style=&quot;fill:none;stroke:#808080;stroke-width:8.64&quot;/&gt;\n",
       "\t&lt;text x=&quot;1531.53&quot; y=&quot;2686.46&quot; style=&quot;font-family:&#x27;Helvetica&#x27;;font-size:99.99px;fill:#000000&quot;&gt;95% CI&lt;/text&gt;\n",
       "\t&lt;text x=&quot;2447.16&quot; y=&quot;2686.46&quot; style=&quot;font-family:&#x27;Helvetica&#x27;;font-size:99.99px;fill:#000000&quot;&gt;se&lt;/text&gt;\n",
       "\t&lt;text x=&quot;2801.95&quot; y=&quot;2686.46&quot; style=&quot;font-family:&#x27;Helvetica&#x27;;font-size:99.99px;fill:#000000&quot;&gt;estimate&lt;/text&gt;\n",
       "\t&lt;text x=&quot;2147.80&quot; y=&quot;215.98&quot; style=&quot;font-family:&#x27;Helvetica&#x27;;font-size:139.96px;fill:#000000&quot; text-anchor=&quot;middle&quot;&gt;Increase in Shooting Percentage after hitting 3+&lt;/text&gt;\n",
       "&lt;/svg&gt;\n",
       "</body></html>\"></iframe>\n"
      ],
      "text/plain": [
       "This front-end cannot display the desired image type."
      ]
     },
     "metadata": {
      "image/svg+xml": {
       "height": 436,
       "width": 600
      },
      "text/html": {
       "height": 436,
       "width": 600
      }
     },
     "output_type": "display_data"
    },
    {
     "name": "stdout",
     "output_type": "stream",
     "text": [
      "\n",
      ".     global stata_kernel_graph_counter = $stata_kernel_graph_counter + 1\n",
      ". }            \n"
     ]
    }
   ],
   "source": [
    "clear\n",
    "qui{\n",
    "set obs 2\n",
    "gen male=_n==1\n",
    "label define male 0 \"females (12)\" 1 \"males (14)\"\n",
    "label values male male\n",
    "gen diff=.\n",
    "gen ui95=.\n",
    "gen li95=.\n",
    "gen ui_se=.\n",
    "gen li_se=.\n",
    "save male_v_female.dta, replace\n",
    "\n",
    " \n",
    "\n",
    "\n",
    "\n",
    "qui: ttest_beta, k(3) sim_data(MS_Bias_guys_k3.dta) command(\"drop if sid < 200\")\n",
    "return list\n",
    "clear\n",
    "use male_v_female.dta\n",
    "replace diff= 100*r(beta) if male==1\n",
    "replace ui95= 100*r(ui95)   if male==1\n",
    "replace li95= 100*r(li95)   if male==1\n",
    "replace ui_se= 100*r(ui_se)   if male==1\n",
    "replace li_se= 100*r(li_se)   if male==1\n",
    "save male_v_female.dta, replace\n",
    "\n",
    "\n",
    "qui: ttest_beta, k(3) sim_data(MS_Bias_gals_k3.dta) command(\"drop if sid >= 200\")\n",
    "clear\n",
    "use male_v_female.dta\n",
    "\n",
    "replace diff= 100*r(beta) if male==0\n",
    "replace ui95= 100*r(ui95)   if male==0\n",
    "replace li95= 100*r(li95)   if male==0\n",
    "replace ui_se= 100*r(ui_se)   if male==0\n",
    "replace li_se= 100*r(li_se)   if male==0\n",
    "save male_v_female.dta, replace\n",
    "}\n",
    "twoway (rspike ui95 li95 male, lwidth(thin)) (rspike ui_se li_se male, lwidth(vthick)) (scatter diff male, msymbol(circle)), ytitle(Increase in shooting percentage (in percentage points)) yline(0, lpattern(dash)) ylabel(, angle(horizontal)) xtitle(\"\") xscale(range(-.5 1.5)) xlabel(0 \"females [12]\" 1 \"males [14]\") title(Increase in Shooting Percentage after hitting 3+) legend(on order(1 \"95% CI\" 2 \"se\" 3 \"estimate\") rows(1)) scheme(s1mono) scale(1)\n"
   ]
  },
  {
   "cell_type": "code",
   "execution_count": null,
   "metadata": {},
   "outputs": [],
   "source": []
  }
 ],
 "metadata": {
  "kernelspec": {
   "display_name": "Stata",
   "language": "stata",
   "name": "stata"
  },
  "language_info": {
   "codemirror_mode": "stata",
   "file_extension": ".do",
   "mimetype": "text/x-stata",
   "name": "stata",
   "version": "15.1"
  }
 },
 "nbformat": 4,
 "nbformat_minor": 2
}
