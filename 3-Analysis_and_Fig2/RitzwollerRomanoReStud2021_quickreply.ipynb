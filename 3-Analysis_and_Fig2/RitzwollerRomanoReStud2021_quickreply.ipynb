{
 "cells": [
  {
   "cell_type": "markdown",
   "metadata": {},
   "source": [
    "The quote from Ritzwoller & Romano 2021:\n",
    "> ...multiple testing procedures reveal that one shooter exhibits a shooting pattern significantly inconsistent with randomness – supplying strong evidence that basketball shooting is not random for all shooters all of the time. However, we find that the evidence against randomness in this experiment is limited to this shooter\n",
    "\n",
    "link: https://www.restud.com/paper/uncertainty-in-the-hot-hand-fallacy-detecting-streaky-alternatives-to-random-bernoulli-sequences/"
   ]
  },
  {
   "cell_type": "markdown",
   "metadata": {},
   "source": [
    "# Skip to (3) for results"
   ]
  },
  {
   "cell_type": "markdown",
   "metadata": {},
   "source": [
    "## 1. Three Stata rclass commands:  (skip over this for results)\n",
    "1. Generating random data\n",
    "2. Running a fixed effect regression coefficient (biased)\n",
    "3. Running a biased-corrected test on the regression coefficient"
   ]
  },
  {
   "cell_type": "code",
   "execution_count": 7,
   "metadata": {},
   "outputs": [],
   "source": [
    "\n",
    "*Helper code:\n",
    "{\n",
    "\n",
    "cap program drop genshots_GVT\n",
    "program define genshots_GVT\n",
    "\tsyntax [, fg(string) nshots(integer 100) nsids(integer 26)]\n",
    "\t*This code regenerates GVT's shot outcomes, randomly \n",
    "\tclear\n",
    "\tlocal obs=`nshots'*`nsids'\n",
    "\tset obs `obs'\n",
    "\tgen rand1=runiform()\n",
    "\tgen period=mod(_n-1,`nshots')+1\n",
    "\tgen sid=100+floor((_n-period)/`nshots')+1\n",
    "\treplace sid=200+sid-100-14 if sid>114\n",
    "\t\n",
    "\t*These shooters had empty observations, because they ended early\n",
    "\tdrop if period>90 & sid==104\n",
    "\tdrop if period>75& sid==107\n",
    "\tdrop if period>50 & sid==108\n",
    "\t\n",
    "\tgen fg=.\n",
    "\tif \"`fg'\"==\"design\"{\n",
    "\t\treplace fg=.5\n",
    "\t}\n",
    "\telse if \"`fg'\"==\"actual\"{\n",
    "\t\treplace fg=.54 if sid==101\n",
    "\t\treplace fg=.35 if sid==102\n",
    "\t\treplace fg=.6 if sid==103\n",
    "\t\treplace fg=.4 if sid==104\n",
    "\t\treplace fg=.42 if sid==105\n",
    "\t\treplace fg=.57 if sid==106\n",
    "\t\treplace fg=.56 if sid==107\n",
    "\t\treplace fg=.5 if sid==108\n",
    "\t\treplace fg=.54 if sid==109\n",
    "\t\treplace fg=.6 if sid==110\n",
    "\t\treplace fg=.58 if sid==111\n",
    "\t\treplace fg=.44 if sid==112\n",
    "\t\treplace fg=.61 if sid==113\n",
    "\t\treplace fg=.59 if sid==114\n",
    "\t\treplace fg=.48 if sid==201\n",
    "\t\treplace fg=.34 if sid==202\n",
    "\t\treplace fg=.39 if sid==203\n",
    "\t\treplace fg=.32 if sid==204\n",
    "\t\treplace fg=.36 if sid==205\n",
    "\t\treplace fg=.46 if sid==206\n",
    "\t\treplace fg=.41 if sid==207\n",
    "\t\treplace fg=.53 if sid==208\n",
    "\t\treplace fg=.45 if sid==209\n",
    "\t\treplace fg=.46 if sid==210\n",
    "\t\treplace fg=.53 if sid==211\n",
    "\t\treplace fg=.25 if sid==212\n",
    "\t}\n",
    "\telse{\n",
    "\t\tdisplay \"ERROR: control flow issues\"\n",
    "\t\terror\n",
    "\t\texit\n",
    "\t}\n",
    "\t\n",
    "\tgen make=(rand1<=fg)\n",
    "end\n",
    "\n",
    "cap program drop anGVT_fe\n",
    "program define anGVT_fe, rclass\n",
    "\tsyntax [, fg(string) k(integer 3) command(string) ]\n",
    "\t*This code regenerates GVT's shot outcomes, randomly \n",
    "\t*Then runs a fixed effect regression (biased), and returns the coefficient estimate \n",
    "\t*hitting k or more in row\n",
    "\t\n",
    "\tclear\n",
    "\tgenshots_GVT, fg(`fg')\n",
    "\t\n",
    "\t*Flexible, to add any command here:\n",
    "\t`command'\n",
    "\t\n",
    "\t*Build streak condition statement\n",
    "\tlocal make=\"make[_n-1]==1\"\n",
    "\tlocal miss=\"make[_n-1]==0\"\n",
    "\tforvalues i=2(1)`k'{\n",
    "\t\tlocal make=\"`make' & make[_n-`i']==1\"\n",
    "\t\tlocal miss=\"`miss' & make[_n-`i']==0\"\n",
    "\t}\n",
    "\t\n",
    "\t*Generate the regressor:\n",
    "\tgen dMade`k'ormore=`make' if period>`k'\n",
    "\tgen dMissed`k'ormore=`miss' if period>`k'\n",
    "\t\n",
    "\t*fixed effect regression \n",
    "\treg make dMade`k'ormore i.sid if dMade`k'ormore==1| dMissed`k'ormore==1\n",
    "\t\n",
    "\t*return the coefficent\n",
    "\treturn scalar diff=el(r(table),1,1)\n",
    "end\n",
    "\n",
    "\n",
    "cap program drop ttest_beta\n",
    "program define ttest_beta, rclass\n",
    "\tsyntax [, k(integer 3) sim_data(string) command(string) ]\n",
    "\t*Is the hot hand in GVT robust \n",
    "quietly{\n",
    "\tclear\n",
    "\t*Load\n",
    "\tuse gilovichshooters.dta\n",
    "\tdo genregressionvars_v2.do  //generate the variables that are used in the regression\n",
    "\tgenregressionvars\t\n",
    "\t`command'\n",
    "\t\n",
    "\tinspect sid\n",
    "\tif r(N_unique)> 1{\n",
    "\t\txtset sid \n",
    "\t\tnoi: xtreg make dMade`k'ormore if dMade`k'ormore==1| dMissed`k'ormore==1, fe\n",
    "\t}\n",
    "\telse{\n",
    "\t\tnoi: reg make dMade`k'ormore if dMade`k'ormore==1| dMissed`k'ormore==1\n",
    "\t}\n",
    "\tclear\n",
    "\tuse `sim_data'\n",
    "\tsummarize, meanonly\n",
    "\tlocal bias =  r(mean) \n",
    "\t\n",
    "\t*Alternative Hypothsis 1: Hot or Cold Hand\n",
    "\tnoi: test dMade`k'ormore=`bias'\n",
    "\t\n",
    "\treturn scalar hot_hand_effect = _b[dMade`k'ormore] - `bias'\t\t\n",
    "\t*Alternative Hypothesis 2: Hot hand (one-sided test, justified by priors?)\n",
    "\t\tlocal tstat=sign(_b[dMade`k'ormore])*sqrt(r(F))\n",
    "\t\t\n",
    "\t\treturn scalar tstat = `tstat'\n",
    "\t\treturn scalar pvalue_right_tail =  ttail(r(df_r) ,`tstat')\t\n",
    "}\n",
    "end\n",
    "\n",
    "}"
   ]
  },
  {
   "cell_type": "markdown",
   "metadata": {},
   "source": [
    "## 2 Simulate coefficient estimates to calculate bias (in the context of fe regression)\n",
    "This will take 5-10 min"
   ]
  },
  {
   "cell_type": "markdown",
   "metadata": {},
   "source": [
    "*For sid 109 only, k=3,4\n",
    "simulate diff=r(diff),reps(10000) saving(MS_Bias_only109_k4.dta): anGVT, fg(design) k(4) command(\"keep if sid == 109\") \n",
    "simulate diff=r(diff),reps(10000) saving(MS_Bias_only109_k3.dta): anGVT, fg(design) k(3) command(\"drop if sid == 109\") \n",
    "\n",
    "*For GVT without sid 109, k=3,4\n",
    "simulate diff=r(diff),reps(10000) saving(MS_Bias_without109_k3.dta): anGVT, fg(design) k(3) command(\"drop if sid == 109\")\n",
    "simulate diff=r(diff),reps(10000) saving(MS_Bias_without109_k4.dta): anGVT, fg(design) k(4) command(\"drop if sid == 109\")"
   ]
  },
  {
   "cell_type": "markdown",
   "metadata": {},
   "source": [
    "## 3.  How much of a hot hand does shooter 109 have?  A lot"
   ]
  },
  {
   "cell_type": "code",
   "execution_count": 8,
   "metadata": {},
   "outputs": [
    {
     "name": "stdout",
     "output_type": "stream",
     "text": [
      "\n",
      "\n",
      "      Source |       SS           df       MS      Number of obs   =        50\n",
      "-------------+----------------------------------   F(1, 48)        =     15.44\n",
      "       Model |  2.80333333         1  2.80333333   Prob > F        =    0.0003\n",
      "    Residual |  8.71666667        48  .181597222   R-squared       =    0.2433\n",
      "-------------+----------------------------------   Adj R-squared   =    0.2276\n",
      "       Total |       11.52        49  .235102041   Root MSE        =    .42614\n",
      "\n",
      "------------------------------------------------------------------------------\n",
      "        make |      Coef.   Std. Err.      t    P>|t|     [95% Conf. Interval]\n",
      "-------------+----------------------------------------------------------------\n",
      "dMade3ormore |   .4833333   .1230167     3.93   0.000     .2359917    .7306749\n",
      "       _cons |        .35   .0952883     3.67   0.001       .15841      .54159\n",
      "------------------------------------------------------------------------------\n",
      "\n",
      " ( 1)  dMade3ormore = -.0844034\n",
      "\n",
      "       F(  1,    48) =   21.30\n",
      "            Prob > F =    0.0000\n",
      "\n",
      "++++++++++++++++++++++++++++++++++++++++++++++++++++++++++++++++++++++++\n",
      "\n",
      "Bias Corrected Hot hand Effect = .56773674\n",
      "\n",
      "Pvalue of Test with hot hand alternative = .00001475\n"
     ]
    }
   ],
   "source": [
    "ttest_beta, k(3) sim_data(MS_Bias_only109_k3.dta) command(\"keep if sid ==109\")\n",
    "\n",
    "disp \"++++++++++++++++++++++++++++++++++++++++++++++++++++++++++++++++++++++++\"\n",
    "disp \"Bias Corrected Hot hand Effect = \" r(hot_hand_effect)\n",
    "disp \"Pvalue of Test with hot hand alternative = \"  r(pvalue_right_tail)"
   ]
  },
  {
   "cell_type": "markdown",
   "metadata": {},
   "source": [
    "**Robust to stricter definition of a streak? Length 4 or longer:**"
   ]
  },
  {
   "cell_type": "code",
   "execution_count": 9,
   "metadata": {},
   "outputs": [
    {
     "name": "stdout",
     "output_type": "stream",
     "text": [
      "\n",
      "\n",
      "      Source |       SS           df       MS      Number of obs   =        38\n",
      "-------------+----------------------------------   F(1, 36)        =      7.51\n",
      "       Model |   1.4757085         1   1.4757085   Prob > F        =    0.0095\n",
      "    Residual |  7.07692308        36  .196581197   R-squared       =    0.1725\n",
      "-------------+----------------------------------   Adj R-squared   =    0.1496\n",
      "       Total |  8.55263158        37  .231152205   Root MSE        =    .44337\n",
      "\n",
      "------------------------------------------------------------------------------\n",
      "        make |      Coef.   Std. Err.      t    P>|t|     [95% Conf. Interval]\n",
      "-------------+----------------------------------------------------------------\n",
      "dMade4ormore |   .4153846   .1516076     2.74   0.010     .1079101    .7228592\n",
      "       _cons |   .3846154     .12297     3.13   0.003     .1352206    .6340102\n",
      "------------------------------------------------------------------------------\n",
      "\n",
      " ( 1)  dMade4ormore = -.1646685\n",
      "\n",
      "       F(  1,    36) =   14.64\n",
      "            Prob > F =    0.0005\n",
      "\n",
      "++++++++++++++++++++++++++++++++++++++++++++++++++++++++++++++++++++++++\n",
      "\n",
      "Bias Corrected Hot hand Effect = .58005316\n",
      "\n",
      "Pvalue of Test with hot hand alternative = .00024964\n"
     ]
    }
   ],
   "source": [
    "ttest_beta, k(4) sim_data(MS_Bias_only109_k4.dta) command(\"keep if sid ==109\")\n",
    "\n",
    "disp \"++++++++++++++++++++++++++++++++++++++++++++++++++++++++++++++++++++++++\"\n",
    "disp \"Bias Corrected Hot hand Effect = \" r(hot_hand_effect)\n",
    "disp \"Pvalue of Test with hot hand alternative = \"  r(pvalue_right_tail)"
   ]
  },
  {
   "cell_type": "markdown",
   "metadata": {},
   "source": [
    "## 4.  Is GVT significant without shooter 109 have?  Yes*, hot hand effect = 10.2pp (SE 4.6)\n",
    "*Yes for hot hand alternative, borderline for cold or hot hand alternative"
   ]
  },
  {
   "cell_type": "code",
   "execution_count": 11,
   "metadata": {},
   "outputs": [
    {
     "name": "stdout",
     "output_type": "stream",
     "text": [
      "\n",
      "\n",
      "Fixed-effects (within) regression               Number of obs     =        663\n",
      "Group variable: sid                             Number of groups  =         25\n",
      "\n",
      "R-sq:                                           Obs per group:\n",
      "     within  = 0.0027                                         min =         13\n",
      "     between = 0.5772                                         avg =       26.5\n",
      "     overall = 0.0190                                         max =         38\n",
      "\n",
      "                                                F(1,637)          =       1.71\n",
      "corr(u_i, Xb)  = 0.3871                         Prob > F          =     0.1912\n",
      "\n",
      "------------------------------------------------------------------------------\n",
      "        make |      Coef.   Std. Err.      t    P>|t|     [95% Conf. Interval]\n",
      "-------------+----------------------------------------------------------------\n",
      "dMade3ormore |    .059581   .0455326     1.31   0.191    -.0298312    .1489932\n",
      "       _cons |    .439123   .0273333    16.07   0.000     .3854487    .4927974\n",
      "-------------+----------------------------------------------------------------\n",
      "     sigma_u |  .10013841\n",
      "     sigma_e |  .49486738\n",
      "         rho |  .03933644   (fraction of variance due to u_i)\n",
      "------------------------------------------------------------------------------\n",
      "F test that all u_i=0: F(24, 637) = 0.99                     Prob > F = 0.4839\n",
      "\n",
      " ( 1)  dMade3ormore = -.0431722\n",
      "\n",
      "       F(  1,   637) =    5.09\n",
      "            Prob > F =    0.0244\n",
      "\n",
      "++++++++++++++++++++++++++++++++++++++++++++++++++++++++++++++++++++++++\n",
      "\n",
      "Bias Corrected Hot hand Effect = .10275318\n",
      "\n",
      "Pvalue of Test with hot hand alternative = .01218265\n"
     ]
    }
   ],
   "source": [
    "ttest_beta, k(3) sim_data(MS_Bias_without109_k3.dta) command(\"drop if sid ==109\")\n",
    "\n",
    "disp \"++++++++++++++++++++++++++++++++++++++++++++++++++++++++++++++++++++++++\"\n",
    "disp \"Bias Corrected Hot hand Effect = \" r(hot_hand_effect)\n",
    "disp \"Pvalue of Test with hot hand alternative = \"  r(pvalue_right_tail)"
   ]
  },
  {
   "cell_type": "markdown",
   "metadata": {},
   "source": [
    "**Robust to stricter definition of a streak? Length 4 or longer: hot hand effect = 12.4pp (SE 6.4)"
   ]
  },
  {
   "cell_type": "code",
   "execution_count": 12,
   "metadata": {},
   "outputs": [
    {
     "name": "stdout",
     "output_type": "stream",
     "text": [
      "\n",
      "\n",
      "Fixed-effects (within) regression               Number of obs     =        375\n",
      "Group variable: sid                             Number of groups  =         25\n",
      "\n",
      "R-sq:                                           Obs per group:\n",
      "     within  = 0.0012                                         min =          5\n",
      "     between = 0.4804                                         avg =       15.0\n",
      "     overall = 0.0268                                         max =         25\n",
      "\n",
      "                                                F(1,349)          =       0.44\n",
      "corr(u_i, Xb)  = 0.4644                         Prob > F          =     0.5093\n",
      "\n",
      "------------------------------------------------------------------------------\n",
      "        make |      Coef.   Std. Err.      t    P>|t|     [95% Conf. Interval]\n",
      "-------------+----------------------------------------------------------------\n",
      "dMade4ormore |     .04332   .0655818     0.66   0.509    -.0856653    .1723052\n",
      "       _cons |   .4171076   .0368046    11.33   0.000      .344721    .4894943\n",
      "-------------+----------------------------------------------------------------\n",
      "     sigma_u |  .12812734\n",
      "     sigma_e |   .4929305\n",
      "         rho |  .06328758   (fraction of variance due to u_i)\n",
      "------------------------------------------------------------------------------\n",
      "F test that all u_i=0: F(24, 349) = 0.84                     Prob > F = 0.6883\n",
      "\n",
      " ( 1)  dMade4ormore = -.0804241\n",
      "\n",
      "       F(  1,   349) =    3.56\n",
      "            Prob > F =    0.0600\n",
      "\n",
      "++++++++++++++++++++++++++++++++++++++++++++++++++++++++++++++++++++++++\n",
      "\n",
      "Bias Corrected Hot hand Effect = .12374405\n",
      "\n",
      "Pvalue of Test with hot hand alternative = .03000405\n"
     ]
    }
   ],
   "source": [
    "ttest_beta, k(4) sim_data(MS_Bias_without109_k4.dta) command(\"drop if sid ==109\")\n",
    "\n",
    "disp \"++++++++++++++++++++++++++++++++++++++++++++++++++++++++++++++++++++++++\"\n",
    "disp \"Bias Corrected Hot hand Effect = \" r(hot_hand_effect)\n",
    "disp \"Pvalue of Test with hot hand alternative = \"  r(pvalue_right_tail)"
   ]
  },
  {
   "cell_type": "code",
   "execution_count": null,
   "metadata": {},
   "outputs": [],
   "source": []
  }
 ],
 "metadata": {
  "kernelspec": {
   "display_name": "Stata",
   "language": "stata",
   "name": "stata"
  },
  "language_info": {
   "codemirror_mode": "stata",
   "file_extension": ".do",
   "mimetype": "text/x-stata",
   "name": "stata",
   "version": "15.1"
  }
 },
 "nbformat": 4,
 "nbformat_minor": 2
}
