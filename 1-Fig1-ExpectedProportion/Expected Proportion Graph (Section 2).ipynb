{
 "cells": [
  {
   "cell_type": "markdown",
   "metadata": {},
   "source": [
    "# Graph of Expected Proportion (Figure 1 in Section 2)\n",
    "\n",
    "For different values of $p$, $n$, $k$\n",
    "\n"
   ]
  },
  {
   "cell_type": "markdown",
   "metadata": {},
   "source": [
    "## 0 Preliminaries\n",
    "### 0.1 Import third Party code"
   ]
  },
  {
   "cell_type": "code",
   "execution_count": 1,
   "metadata": {},
   "outputs": [],
   "source": [
    "import time\n",
    "import os        #for benchmarking\n",
    "import pandas as pd\n",
    "import ipystata\n",
    "from collections import Counter \n",
    "import matplotlib.pyplot as plt\n",
    "import numpy as np\n",
    "import importlib #in case we need to update user-defined code e.g. importlib.reload(diffP)\n"
   ]
  },
  {
   "cell_type": "markdown",
   "metadata": {},
   "source": [
    "What is my current directory?"
   ]
  },
  {
   "cell_type": "code",
   "execution_count": 7,
   "metadata": {},
   "outputs": [
    {
     "name": "stdout",
     "output_type": "stream",
     "text": [
      "C:\\Users\\Miller\\Dropbox\\josh\\work\\projects\\HotHand-Surprised\\Sandbox-Theory\n"
     ]
    }
   ],
   "source": [
    "current_dir=os.getcwd()\n",
    "print(current_dir)"
   ]
  },
  {
   "cell_type": "markdown",
   "metadata": {},
   "source": [
    "#### Let's see which Python code we have in the current directory"
   ]
  },
  {
   "cell_type": "code",
   "execution_count": 8,
   "metadata": {},
   "outputs": [
    {
     "name": "stdout",
     "output_type": "stream",
     "text": [
      "DifferenceInProportions.py\n",
      "diffP.py\n",
      "grayscale.py\n",
      "prop.py\n",
      "prop_old.py\n"
     ]
    }
   ],
   "source": [
    "for file in os.listdir(current_dir):\n",
    "    if file[-3:]=='.py':\n",
    "        print(file)"
   ]
  },
  {
   "cell_type": "markdown",
   "metadata": {},
   "source": [
    "### 0.2 Let's import specialized Python code"
   ]
  },
  {
   "cell_type": "code",
   "execution_count": 9,
   "metadata": {},
   "outputs": [
    {
     "name": "stdout",
     "output_type": "stream",
     "text": [
      "Locked and loaded\n"
     ]
    }
   ],
   "source": [
    "import prop #The programs live here\n",
    "importlib.reload(prop)\n",
    "#help(prop)\n",
    "print('Locked and loaded')"
   ]
  },
  {
   "cell_type": "markdown",
   "metadata": {},
   "source": [
    "## 1. Exploring the distribution of the proportion, and its expected value\n",
    "### 1.1 Here is an explanation of the objects in prop.py (can be skipped)\n"
   ]
  },
  {
   "cell_type": "markdown",
   "metadata": {},
   "source": [
    "The recursive algorithm presented here is replaces the numerical numerical formula derived in Miller & Sanjurjo (2015), which is based on the joint distributions of runs.  It extends an idea from Michael Wiener's <a href=\"https://twitter.com/m_j_wiener/status/981138844710916096\">C++ code shared on twitter</a>. See Appendix E of the online Supplment Material for a dicussion of the algorithm.\n",
    "\n",
    "\n",
    "$B$ below is an $(n+1)^2$ matrix of dictionaries $B[h][s]$,  where:\n",
    "+ $n$ is the number of shots, and $k$ is the length of streaks we are interested in  \n",
    "+ $h=\\min\\{l_h,k\\}$ where $l_h$ is the length of the hit streak to the left\n",
    "+ $s$ is the number of remaining shots to be taken\n",
    "\n",
    "Each entry of the matrix $B[h][s]$ consists of a dictionary of elements\n",
    "$$B[h][s]:=\\{\\quad (n_{M|kH},n_{H|kH}):\\gamma\\quad \\}_{n_{M|kH},n_{H|kH},\\gamma}$$\n",
    "\n",
    "+ The dictionary key $(n_{M|kH},n_{H|kH})$ is a tuple consisting of the number of misses after $k$ hits, the number of hits after $k$ hits, etc.\n",
    "+ The value $\\gamma$ is the probability that given the $h$ consecutive hits to the left (up to length $k$), the next $s$ trials will produce $(n_{M|kH},n_{H|kH})$.\n",
    "+ Example 1: for $k=1$ the dictionary $B[0][2]$ characterizes 4 possible sequences from the two shots remaining, and 3 unique keys: $B[0][2]=\\{(0,0):.5, (1,0):.25, (0,1):.25\\}$\n",
    "+ Example 2: for $k=2$ the dictionary $B[2][2]$  characterizes 4 possible sequences from the two shots remaining, and 3 unique keys: $B[2][2]=\\{(1,0):.5, (1,1):.25, (0,2):.25\\}$\n",
    "+ Example 3: for $k=3$ the dictionary $B[3][1]$  characterizes 2 possible sequences from the one shot remaining, and 2 unique keys: $B[3][1]=\\{(1,0):.5, (0,1):.5\\}$ \n",
    "\n",
    "We can build $B$ iteratively by observing that $B[n][0]=\\{(0,0):1\\}$ for all $n$ as there is only possibility for $(n_{M|kH},n_{H|kH})$ if there are no more trials to observe.  Further that outcome of the next shot will be a miss (probability= $q$) or a make (probability = $p$), in each case the number of remaining shots is decremented by one, and if the current streak $h<k$ then it either ends, or is increased by one, i.e. $B[h][s]=B[0][s-1]^{(0,0):q}+B[h+1][s-1]^{(0,0):p}$ for $h<k$; otherwise if the current streak is of length $k$ that streak iether ends or continues, $B[k][s]=B[0][s-1]^{(1,0):q}+B[k][s-1]^{(0,1):p}$.  Note on notations: the keys from the exponent are summed with the corresponding keys in the dictionary while the values in the exponent are multiplied by the corresponding values in the dictionary. When adding two dictionaries together, if a key appears in both dictionaries then the corresponding values are added together.  We now only need to be careful to build the dictionaries in the correct order after initializing, and we are done.\n"
   ]
  },
  {
   "cell_type": "markdown",
   "metadata": {},
   "source": [
    "### 1.2 Fully Monty: Run Python code to generate the matrix (3x5 list) of dictionaries\n",
    "\n",
    "**Adjust Parameters as needed**"
   ]
  },
  {
   "cell_type": "code",
   "execution_count": 5,
   "metadata": {
    "scrolled": true
   },
   "outputs": [
    {
     "name": "stdout",
     "output_type": "stream",
     "text": [
      "time in seconds= 4.552440643310547\n",
      "Dictionary Ready\n"
     ]
    }
   ],
   "source": [
    "number_of_shots=100\n",
    "max_streak_length=5\n",
    "num_probabilities = 3\n",
    "\n",
    "B = [[None for column in range(num_probabilities)] for row in range(max_streak_length+1) ]\n",
    "#B=[None]\n",
    "t0 = time.time()\n",
    "for streak_length in range(1,max_streak_length+1):\n",
    "    for i in range(num_probabilities):\n",
    "        probability_of_hit=.25+ i*.25\n",
    "        B[streak_length][i]=prop.outcome_and_frequency_dictionary(number_of_shots,streak_length,probability_of_hit)\n",
    "t1 = time.time()\n",
    "total = t1-t0\n",
    "\n",
    "print('time in seconds=',total)\n",
    "print('Dictionary Ready')"
   ]
  },
  {
   "cell_type": "markdown",
   "metadata": {},
   "source": [
    "### 1.3 Now let's graph the expected proportion, as a function of the number of shots"
   ]
  },
  {
   "cell_type": "code",
   "execution_count": 6,
   "metadata": {
    "scrolled": true
   },
   "outputs": [
    {
     "data": {
      "image/png": "[encoded data removed]",
      "text/plain": [
       "<matplotlib.figure.Figure at 0x1ed31ac8>"
      ]
     },
     "metadata": {},
     "output_type": "display_data"
    }
   ],
   "source": [
    "max_streak_length=4\n",
    "num_probabilities = 3\n",
    "\n",
    "#plt.figure(figsize=(8, 6),facecolor=\"white\") \n",
    "\n",
    "#don't include gray borders\n",
    "plt.figure(facecolor=\"white\")\n",
    "#plt.style.use('grayscale')\n",
    "\n",
    "#don't incude negative x-axis\n",
    "plt.xlim(0, 100)\n",
    "\n",
    "#gray intensity for descrimination on my screen\n",
    "g1 = .75 \n",
    "g2 = .6\n",
    "g3 = .4\n",
    "g4 = 0\n",
    "tableau4=[(g1,g1,g1),(g2,g2,g2),(g3,g3,g3),(g4,g4,g4)]\n",
    "#tableau4=[(g-i/3*g,g-i/3*g,g-i/3*g) for i in range(4)]\n",
    "\n",
    "#initialize list  \n",
    "nshots = [[None for column in range(num_probabilities)] for row in range(max_streak_length+1) ]\n",
    "exp_proportion = [[None for column in range(num_probabilities)] for row in range(max_streak_length+1) ]\n",
    "\n",
    "#plot each graph\n",
    "for i in range(num_probabilities):\n",
    "    \n",
    "    #plt.gca().set_prop_cycle(None)\n",
    "    for streak_length in range(1,max_streak_length+1):\n",
    "        #print(i)\n",
    "        n = number_of_shots\n",
    "        k = streak_length\n",
    "        probability_of_hit=.25+ i*.25\n",
    "        \n",
    "        #make list x/y-values for plotting\n",
    "        nshots[k][i] = list(range(k+1,n+1))\n",
    "        exp_proportion[k][i]= [prop.expected_proportion(n,k,B[k][i]) for n in range(k+1,n+1)] \n",
    "        #plt.plot(nshots[k][i],exp_proportion[k][i],color=tableau5[k-1])\n",
    "        \n",
    "        #plot the x/y values\n",
    "        if i==0:\n",
    "            plt.plot(nshots[k][i],exp_proportion[k][i],label='$k=$'+str(k),color=tableau4[k-1])\n",
    "        else:\n",
    "            plt.plot(nshots[k][i],exp_proportion[k][i],color=tableau4[k-1])\n",
    "\n",
    "\n",
    "#plot reference lines\n",
    "plt.plot([0, 100], [.75, .75], 'k--',lw=.75)\n",
    "plt.plot([0, 100], [.5, .5], 'k--',lw=.75)\n",
    "plt.plot([0, 100], [.25, .25], 'k--',lw=.75)\n",
    "\n",
    "#plot text\n",
    "plt.text(45, .645, '$p=.75$')\n",
    "plt.text(45, .38, '$p=.5$')\n",
    "plt.text(45, .195, '$p=.25$')\n",
    "\n",
    "#plot axis labels\n",
    "plt.ylabel('Expected Proportion')\n",
    "plt.xlabel('Number of shots')\n",
    "\n",
    "#plot legend\n",
    "plt.legend(bbox_to_anchor=(1, .91), loc=1,prop={'size': 8})\n",
    "\n",
    "#save figure\n",
    "plt.savefig(\"test.pdf\", bbox_inches=\"tight\");  \n",
    "\n",
    "#plt.axis([0, 6, 0, 20])\n"
   ]
  },
  {
   "cell_type": "code",
   "execution_count": 10,
   "metadata": {},
   "outputs": [
    {
     "name": "stdout",
     "output_type": "stream",
     "text": [
      "a2z\n"
     ]
    }
   ],
   "source": [
    "filename = 'a'+ str(2)+ 'z'\n",
    "print(filename)"
   ]
  },
  {
   "cell_type": "code",
   "execution_count": null,
   "metadata": {},
   "outputs": [],
   "source": []
  }
 ],
 "metadata": {
  "kernelspec": {
   "display_name": "Python 3",
   "language": "python",
   "name": "python3"
  },
  "language_info": {
   "codemirror_mode": {
    "name": "ipython",
    "version": 3
   },
   "file_extension": ".py",
   "mimetype": "text/x-python",
   "name": "python",
   "nbconvert_exporter": "python",
   "pygments_lexer": "ipython3",
   "version": "3.6.4"
  }
 },
 "nbformat": 4,
 "nbformat_minor": 2
}
